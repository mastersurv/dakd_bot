{
 "cells": [
  {
   "cell_type": "code",
   "execution_count": 9,
   "id": "09b233da-305c-4435-b682-bb820d528c11",
   "metadata": {},
   "outputs": [
    {
     "ename": "ModuleNotFoundError",
     "evalue": "No module named 'selenium'",
     "output_type": "error",
     "traceback": [
      "\u001b[1;31m---------------------------------------------------------------------------\u001b[0m",
      "\u001b[1;31mModuleNotFoundError\u001b[0m                       Traceback (most recent call last)",
      "Cell \u001b[1;32mIn[9], line 1\u001b[0m\n\u001b[1;32m----> 1\u001b[0m \u001b[38;5;28;01mfrom\u001b[39;00m \u001b[38;5;21;01mselenium\u001b[39;00m \u001b[38;5;28;01mimport\u001b[39;00m webdriver\n\u001b[0;32m      2\u001b[0m \u001b[38;5;28;01mimport\u001b[39;00m \u001b[38;5;21;01mtime\u001b[39;00m\n\u001b[0;32m      4\u001b[0m \u001b[38;5;66;03m# Инициализация браузера\u001b[39;00m\n",
      "\u001b[1;31mModuleNotFoundError\u001b[0m: No module named 'selenium'"
     ]
    }
   ],
   "source": [
    "from selenium import webdriver\n",
    "import time\n",
    "\n",
    "# Инициализация браузера\n",
    "driver = webdriver.Chrome()  # Укажите путь к драйверу, если необходимо\n",
    "\n",
    "# Загрузка страницы\n",
    "driver.get(\"https://qlik.tattelecom.ru\")\n",
    "\n",
    "# Ожидание загрузки страницы\n",
    "time.sleep(2)\n",
    "\n",
    "# Найти и ввести логин\n",
    "username_input = driver.find_element_by_name(\"username\")\n",
    "username_input.send_keys(\"your_username\")\n",
    "\n",
    "# Найти и ввести пароль\n",
    "password_input = driver.find_element_by_name(\"password\")\n",
    "password_input.send_keys(\"your_password\")\n",
    "\n",
    "# Нажать кнопку для входа\n",
    "login_button = driver.find_element_by_css_selector(\"button[type='submit']\")\n",
    "login_button.click()\n",
    "\n",
    "# Подождать загрузки следующей страницы\n",
    "time.sleep(2)\n",
    "\n",
    "# Считываем информацию со страницы\n",
    "data = driver.find_element_by_css_selector(\"selector_for_data\").text\n",
    "print(data)\n",
    "\n",
    "# Изменяем URL-адрес и считываем новую информацию\n",
    "driver.get(\"new_url\")\n",
    "time.sleep(2)\n",
    "new_data = driver.find_element_by_css_selector(\"selector_for_new_data\").text\n",
    "print(new_data)\n",
    "\n",
    "# Закрыть браузер\n",
    "driver.quit()"
   ]
  },
  {
   "cell_type": "code",
   "execution_count": null,
   "id": "70ecd58a-683d-42de-9f13-4e9863e02e22",
   "metadata": {},
   "outputs": [],
   "source": []
  },
  {
   "cell_type": "code",
   "execution_count": null,
   "id": "67d37268-cfee-400e-b146-42e1b85dfdd5",
   "metadata": {},
   "outputs": [],
   "source": []
  }
 ],
 "metadata": {
  "kernelspec": {
   "display_name": "Python 3 (ipykernel)",
   "language": "python",
   "name": "python3"
  },
  "language_info": {
   "codemirror_mode": {
    "name": "ipython",
    "version": 3
   },
   "file_extension": ".py",
   "mimetype": "text/x-python",
   "name": "python",
   "nbconvert_exporter": "python",
   "pygments_lexer": "ipython3",
   "version": "3.12.0"
  }
 },
 "nbformat": 4,
 "nbformat_minor": 5
}
