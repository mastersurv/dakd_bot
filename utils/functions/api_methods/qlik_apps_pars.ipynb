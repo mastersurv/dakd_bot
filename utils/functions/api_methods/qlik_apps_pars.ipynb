{
 "cells": [
  {
   "cell_type": "code",
   "execution_count": 187,
   "id": "f7821466-9977-4792-a874-8fa8d7109237",
   "metadata": {},
   "outputs": [],
   "source": [
    "from selenium import webdriver\n",
    "from selenium.webdriver.common.by import By\n",
    "import pyautogui\n",
    "from selenium.webdriver.common.keys import Keys\n",
    "import time\n",
    "import json\n",
    "import pandas as pd\n",
    "import re\n",
    "import csv\n",
    "from selenium.common.exceptions import NoSuchElementException\n",
    "import requests"
   ]
  },
  {
   "cell_type": "code",
   "execution_count": 188,
   "id": "43e2bdbd-2c92-463c-93d3-6a9d836bcdf6",
   "metadata": {},
   "outputs": [],
   "source": [
    "# Чтение списка app_id из файла Excel\n",
    "df_app_list = pd.read_excel(\"app_list.xlsx\")\n",
    "app_ids = df_app_list.iloc[:, 0].tolist() \n",
    "\n",
    "app_ids_list = []\n",
    "qvd_filenames_list = []"
   ]
  },
  {
   "cell_type": "code",
   "execution_count": 189,
   "id": "47899b35-6c29-44a5-8673-118117462776",
   "metadata": {},
   "outputs": [
    {
     "name": "stderr",
     "output_type": "stream",
     "text": [
      "Exception managing chrome: error sending request for url (https://googlechromelabs.github.io/chrome-for-testing/known-good-versions-with-downloads.json): error trying to connect: tls handshake eof\n"
     ]
    }
   ],
   "source": [
    "# Инициализация браузера\n",
    "driver = webdriver.Chrome()\n",
    "\n",
    "# Загрузка страницы\n",
    "driver.get(\"http://qlik.tattelecom.ru\")\n",
    "\n",
    "# Ожидание загрузки страницы\n",
    "time.sleep(1)\n"
   ]
  },
  {
   "cell_type": "code",
   "execution_count": 190,
   "id": "23220d9d-ea3e-4d69-a151-f1e1cfa76b07",
   "metadata": {},
   "outputs": [],
   "source": [
    "# Вводим логин\n",
    "pyautogui.write('tattelecom\\\\qlikdevelop')\n",
    "pyautogui.press('tab')\n",
    "time.sleep(0.5)\n",
    "\n",
    "# Вводим пароль\n",
    "pyautogui.write('q*4rt8kN%y')\n",
    "pyautogui.press('enter')\n",
    "\n",
    "# Подождать загрузки следующей страницы\n",
    "time.sleep(1)"
   ]
  },
  {
   "cell_type": "code",
   "execution_count": 191,
   "id": "e0f9b63a-fecb-4766-9346-bb4ce98fc596",
   "metadata": {},
   "outputs": [
    {
     "name": "stdout",
     "output_type": "stream",
     "text": [
      "Element not found for app_id: ea79bab8-7140-4329-abcc-2cf34b22c236. Skipping to the next app_id.\n",
      "Element not found for app_id: 4d4edfbc-2344-4c30-90ef-c3be17b3205d. Skipping to the next app_id.\n",
      "Element not found for app_id: e6269a6e-76cb-446f-ae5f-1ef70cf2071c. Skipping to the next app_id.\n",
      "Element not found for app_id: 0d3dbf22-f793-4566-bbbc-1b85d30cc47b. Skipping to the next app_id.\n",
      "Element not found for app_id: 93e9041d-17fe-4c47-aadd-925261b78856. Skipping to the next app_id.\n",
      "Element not found for app_id: 9c693a07-59c0-4a5d-a1d0-995b3c098606. Skipping to the next app_id.\n",
      "Element not found for app_id: 4504144e-d97f-4206-a5e0-fc6b40ab2e45. Skipping to the next app_id.\n",
      "Element not found for app_id: 19994d2c-8c15-4381-95cb-c70f551d5368. Skipping to the next app_id.\n"
     ]
    }
   ],
   "source": [
    "# Перебор всех app_id\n",
    "for app_id in app_ids:\n",
    "    url = f'http://qlik.tattelecom.ru/api/v1/apps/{app_id}/data/lineage'\n",
    "\n",
    "    try:\n",
    "        # Загрузка новой страницы для каждого app_id\n",
    "        driver.get(url)\n",
    "    \n",
    "        # Ожидание загрузки страницы\n",
    "        time.sleep(1.5)\n",
    "    \n",
    "        # Найти элемент <pre> с JSON текстом\n",
    "        json_element = driver.find_element(By.XPATH, \"//pre\")\n",
    "\n",
    "        # Получить текст из элемента <pre>\n",
    "        json_text = json_element.text\n",
    "\n",
    "        # Разбор JSON данных\n",
    "        data = json.loads(json_text)\n",
    "\n",
    "        # Перебор каждого элемента в JSON данных\n",
    "        for item in data:\n",
    "            discriminator = item.get(\"discriminator\", \"\")\n",
    "            qvd_matches = re.findall(r'\\b\\w+\\.qvd\\b', discriminator)\n",
    "\n",
    "            for qvd_filename in qvd_matches:\n",
    "                app_ids_list.append(app_id)\n",
    "                qvd_filenames_list.append(qvd_filename)\n",
    "    except NoSuchElementException:\n",
    "        print(f\"Element not found for app_id: {app_id}. Skipping to the next app_id.\")\n",
    "\n",
    "    except requests.exceptions.HTTPError as err:\n",
    "        print(f\"HTTP Error occurred for app_id: {app_id}. Error: {err}\")\n",
    "        continue\n",
    "# Создаем датафрейм из списка данных all_data\n",
    "df = pd.DataFrame({'app_id': app_ids_list, 'qvd_filename': qvd_filenames_list})"
   ]
  },
  {
   "cell_type": "code",
   "execution_count": 192,
   "id": "9d273e8b-f069-4e42-8a68-0679a5043eca",
   "metadata": {},
   "outputs": [
    {
     "name": "stderr",
     "output_type": "stream",
     "text": [
      "IOPub data rate exceeded.\n",
      "The Jupyter server will temporarily stop sending output\n",
      "to the client in order to avoid crashing it.\n",
      "To change this limit, set the config variable\n",
      "`--ServerApp.iopub_data_rate_limit`.\n",
      "\n",
      "Current values:\n",
      "ServerApp.iopub_data_rate_limit=1000000.0 (bytes/sec)\n",
      "ServerApp.rate_limit_window=3.0 (secs)\n",
      "\n"
     ]
    }
   ],
   "source": [
    "# Выводим датафрейм\n",
    "print(df)"
   ]
  },
  {
   "cell_type": "code",
   "execution_count": 193,
   "id": "5a5e4a9b-6474-4bde-b525-6864c97d5d14",
   "metadata": {},
   "outputs": [],
   "source": [
    "df.to_csv('output.csv', index=False, encoding='utf-8', quoting=csv.QUOTE_NONNUMERIC)\n",
    "\n",
    "#Закрыть браузер\n",
    "driver.quit()"
   ]
  },
  {
   "cell_type": "code",
   "execution_count": null,
   "id": "5a220e0f-1222-4fe2-8db6-ca6767f1e6d7",
   "metadata": {},
   "outputs": [],
   "source": []
  }
 ],
 "metadata": {
  "kernelspec": {
   "display_name": "Python 3 (ipykernel)",
   "language": "python",
   "name": "python3"
  },
  "language_info": {
   "codemirror_mode": {
    "name": "ipython",
    "version": 3
   },
   "file_extension": ".py",
   "mimetype": "text/x-python",
   "name": "python",
   "nbconvert_exporter": "python",
   "pygments_lexer": "ipython3",
   "version": "3.11.8"
  }
 },
 "nbformat": 4,
 "nbformat_minor": 5
}
