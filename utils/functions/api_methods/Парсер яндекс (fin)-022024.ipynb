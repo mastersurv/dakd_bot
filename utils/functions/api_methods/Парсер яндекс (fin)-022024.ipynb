{
 "cells": [
  {
   "cell_type": "code",
   "execution_count": 1,
   "id": "613cf8bf",
   "metadata": {},
   "outputs": [],
   "source": [
    "import json\n",
    "import cfscrape\n",
    "import requests\n",
    "from bs4 import BeautifulSoup\n",
    "import pandas as pd\n",
    "import time\n",
    "import datetime\n",
    "# from fake_useragent import UserAgent\n",
    "# useragent = UserAgent() "
   ]
  },
  {
   "cell_type": "code",
   "execution_count": 2,
   "id": "821fd6b4",
   "metadata": {},
   "outputs": [],
   "source": [
    "# useragent.random "
   ]
  },
  {
   "cell_type": "code",
   "execution_count": 3,
   "id": "09710fd7",
   "metadata": {},
   "outputs": [],
   "source": [
    " yandex_all_id = 1163323346,1243520916,1261357675,1503884741,1084635139,1168675286,68938452823,1142895335,46866695409,1156420979,1230403863,1808210910,1137049971,1173855410,1737906159,8021941936,48923682156,106396488794,1219578186,1137893690,147075068049,1395617057,1136669337,1169237983,1209203365,1187228400,1199923913,155391100274,1249340350,95798602015,1092610521,222501363394,1109319679,1170778562,1357472078,111881168077,1315558370,135157708122,1171367346,1004521162,175499965097,1082278919,39505328349,181349390806,57361398610,238385424377,217576127302,174583421422,238345237585,1761503433,1092543151,1146856379,129281957669,58618253938"
   ]
  },
  {
   "cell_type": "code",
   "execution_count": 4,
   "id": "0b07b036",
   "metadata": {},
   "outputs": [],
   "source": [
    "#yandex_all_id = 1199923913,1146856379,1752726383,68938452823,1136669337,48923682156,1084785161,106396488794,1169237983,1171367346,244588988530,95798602015,1808210910,74755559887,222108751806,1004521162,238385424377,1178994977,1809097327\n"
   ]
  },
  {
   "cell_type": "code",
   "execution_count": 5,
   "id": "0c837eeb",
   "metadata": {},
   "outputs": [],
   "source": [
    "#yandex_all_id = 1146856379,1752726383,68938452823,1136669337,48923682156,1084785161,106396488794,1169237983,1171367346\n",
    "#122953255163"
   ]
  },
  {
   "cell_type": "code",
   "execution_count": 6,
   "id": "d53b3b2c",
   "metadata": {},
   "outputs": [],
   "source": [
    "Data_id =  pd.read_excel('Data_id.xlsx',engine = 'openpyxl')  #pd.DataFrame((yandex_all_id), columns = ['id'])"
   ]
  },
  {
   "cell_type": "code",
   "execution_count": 10,
   "id": "b4dac797",
   "metadata": {},
   "outputs": [
    {
     "data": {
      "text/html": [
       "<div>\n",
       "<style scoped>\n",
       "    .dataframe tbody tr th:only-of-type {\n",
       "        vertical-align: middle;\n",
       "    }\n",
       "\n",
       "    .dataframe tbody tr th {\n",
       "        vertical-align: top;\n",
       "    }\n",
       "\n",
       "    .dataframe thead th {\n",
       "        text-align: right;\n",
       "    }\n",
       "</style>\n",
       "<table border=\"1\" class=\"dataframe\">\n",
       "  <thead>\n",
       "    <tr style=\"text-align: right;\">\n",
       "      <th></th>\n",
       "      <th>id</th>\n",
       "    </tr>\n",
       "  </thead>\n",
       "  <tbody>\n",
       "    <tr>\n",
       "      <th>0</th>\n",
       "      <td>1218514905</td>\n",
       "    </tr>\n",
       "    <tr>\n",
       "      <th>1</th>\n",
       "      <td>1036543306</td>\n",
       "    </tr>\n",
       "    <tr>\n",
       "      <th>2</th>\n",
       "      <td>222108751806</td>\n",
       "    </tr>\n",
       "    <tr>\n",
       "      <th>3</th>\n",
       "      <td>59452068765</td>\n",
       "    </tr>\n",
       "    <tr>\n",
       "      <th>4</th>\n",
       "      <td>1166206684</td>\n",
       "    </tr>\n",
       "    <tr>\n",
       "      <th>...</th>\n",
       "      <td>...</td>\n",
       "    </tr>\n",
       "    <tr>\n",
       "      <th>76</th>\n",
       "      <td>1761503433</td>\n",
       "    </tr>\n",
       "    <tr>\n",
       "      <th>77</th>\n",
       "      <td>1092543151</td>\n",
       "    </tr>\n",
       "    <tr>\n",
       "      <th>78</th>\n",
       "      <td>1146856379</td>\n",
       "    </tr>\n",
       "    <tr>\n",
       "      <th>79</th>\n",
       "      <td>129281957669</td>\n",
       "    </tr>\n",
       "    <tr>\n",
       "      <th>80</th>\n",
       "      <td>58618253938</td>\n",
       "    </tr>\n",
       "  </tbody>\n",
       "</table>\n",
       "<p>81 rows × 1 columns</p>\n",
       "</div>"
      ],
      "text/plain": [
       "              id\n",
       "0     1218514905\n",
       "1     1036543306\n",
       "2   222108751806\n",
       "3    59452068765\n",
       "4     1166206684\n",
       "..           ...\n",
       "76    1761503433\n",
       "77    1092543151\n",
       "78    1146856379\n",
       "79  129281957669\n",
       "80   58618253938\n",
       "\n",
       "[81 rows x 1 columns]"
      ]
     },
     "execution_count": 10,
     "metadata": {},
     "output_type": "execute_result"
    }
   ],
   "source": [
    "Data_id.head(81)"
   ]
  },
  {
   "cell_type": "code",
   "execution_count": 11,
   "id": "f47b58ba",
   "metadata": {},
   "outputs": [
    {
     "data": {
      "text/plain": [
       "81"
      ]
     },
     "execution_count": 11,
     "metadata": {},
     "output_type": "execute_result"
    }
   ],
   "source": [
    "len(Data_id)"
   ]
  },
  {
   "cell_type": "code",
   "execution_count": 12,
   "id": "19a9ba92",
   "metadata": {},
   "outputs": [],
   "source": [
    "#'Mozilla/5.0 (Windows NT 10.0; Win64; x64) AppleWebKit/537.36 (KHTML, like Gecko) Chrome/95.0.4638.54 Safari/537.36'"
   ]
  },
  {
   "cell_type": "code",
   "execution_count": 13,
   "id": "b236cf3b",
   "metadata": {},
   "outputs": [],
   "source": [
    "estimates_all = pd.DataFrame()"
   ]
  },
  {
   "cell_type": "code",
   "execution_count": 14,
   "id": "d98cb44a",
   "metadata": {
    "scrolled": true
   },
   "outputs": [
    {
     "name": "stdout",
     "output_type": "stream",
     "text": [
      "0   09:02:10   Летай  ID: 1218514905   https://yandex.ru/maps/org/letay/1218514905  - Success\n"
     ]
    }
   ],
   "source": [
    "for i in range(1):\n",
    "    yandex_id = str(Data_id.iloc[i]['id'])\n",
    "    date_object = time.strftime(\"%d.%m.%Y\")\n",
    "    time_object = time.strftime(\"%H:%M:%S\")\n",
    "    ya = pd.DataFrame({\"date\": date_object,\"time\":time_object, \"id\": yandex_id}, index = [1])\n",
    "    ya['key'] = 1\n",
    "    def get_count_star(review_stars):\n",
    "        star_count = 0\n",
    "        for review_star in review_stars:\n",
    "            if '_empty' in review_star.get('class'):\n",
    "                continue\n",
    "            elif '_half' in review_star.get('class'):\n",
    "                star_count = star_count + 0.5\n",
    "            else:\n",
    "                star_count = star_count + 1\n",
    "        return star_count\n",
    "\n",
    "    def get_session():\n",
    "        session = requests.Session()\n",
    "        session.headers = {\n",
    "            'accept': 'text/html,application/xhtml+xml,application/xml;q=0.9,image/avif,image/webp,image/apng,*/*;q=0.8,application/signed-exchange;v=b3;q=0.9',\n",
    "            'sec-ch-ua': '\"Google Chrome\";v=\"95\", \"Chromium\";v=\"95\", \";Not A Brand\";v=\"99\"',\n",
    "            'upgrade-insecure-requests': '1',\n",
    "            #'user-agent': useragent.random,\n",
    "            'user-agent': 'Mozilla/5.0 (Windows NT 10.0; Win64; x64) AppleWebKit/537.36 (KHTML, like Gecko) Chrome/95.0.4638.54 Safari/537.36',\n",
    "            'viewport-width': '1920'\n",
    "        }\n",
    "        return cfscrape.create_scraper(sess=session)\n",
    "\n",
    "    def parsing_data(data_result, r):\n",
    "        soup = BeautifulSoup(r.text, 'html.parser')\n",
    "        try:\n",
    "            reviews = soup.find('div', {\"data-chunk\": \"reviews\"})\n",
    "        except:\n",
    "            return None\n",
    "        try:\n",
    "            summary_rating__main = reviews.find('div', {\"class\": \"business-summary-rating__main-rating\"})\n",
    "        except:\n",
    "            summary_rating__main = None\n",
    "        try:\n",
    "            rank_summary_rating__main = summary_rating__main.find('div',{\"class\": \"business-summary-rating-badge-view__rating\"}).text\n",
    "        except:\n",
    "            rank_summary_rating__main = None\n",
    "        try:\n",
    "            count_summary_rating__main = summary_rating__main.find('div', {\n",
    "                \"class\": \"business-summary-rating-badge-view__rating-count\"}).text\n",
    "        except:\n",
    "            count_summary_rating__main = None\n",
    "        try:\n",
    "            stars_summary_rating__main = get_count_star(\n",
    "                summary_rating__main.find('div', {\"class\": \"business-rating-badge-view__stars\"}))\n",
    "        except:\n",
    "            stars_summary_rating__main = None\n",
    "        try:\n",
    "            address = soup.find('meta', {\"itemprop\": \"address\"}).get('content')\n",
    "        except:\n",
    "            address = None\n",
    "        \n",
    "        try:\n",
    "            site = soup.find('div', {\"class\": \"business-urls-view__url\"}).text\n",
    "        except:\n",
    "            site = None\n",
    "        \n",
    "        try:\n",
    "            Reviews = soup.find('div', {\"class\": \"tabs-select-view__title _name_reviews\"}).text\n",
    "        except:\n",
    "            Reviews = None\n",
    "        \n",
    "        try:\n",
    "            name = soup.find('h1',{\"class\":\"orgpage-header-view__header\",\"itemprop\":\"name\"}).text\n",
    "        except:\n",
    "            return None\n",
    "           \n",
    "            \n",
    "        \n",
    "        data_result['company_info'] = {\n",
    "            'company_rating': rank_summary_rating__main,\n",
    "            'company_count_reviews': count_summary_rating__main,\n",
    "            'company_count_stars': stars_summary_rating__main,\n",
    "            'company_address': address,\n",
    "            'company_name': name,\n",
    "            'site': site,\n",
    "            'Reviews': Reviews\n",
    "        }\n",
    "        return data_result\n",
    "    \n",
    "    url = 'https://yandex.ru/maps/org/letay/' + yandex_id\n",
    "    session = get_session()\n",
    "    r = session.get(url)\n",
    "    data_result = {\n",
    "        'company_info': {}\n",
    "    }\n",
    "    data_result\n",
    "    data_result = parsing_data(data_result, r)\n",
    "    df = pd.DataFrame(data_result)\n",
    "    addr = df.loc['company_address']['company_info']\n",
    "    name = df.loc['company_name']['company_info']\n",
    "    while addr == None:\n",
    "        time_new = time.strftime(\"%H:%M:%S\")\n",
    "        print(time_new,' New query for ', name, url)\n",
    "        time.sleep(300)\n",
    "        session = get_session()\n",
    "        r = session.get(url)\n",
    "        data_result = {\n",
    "            'company_info': {}\n",
    "        }\n",
    "        data_result\n",
    "        data_result = parsing_data(data_result, r)\n",
    "        df = pd.DataFrame(data_result)\n",
    "        addr = df.loc['company_address']['company_info']\n",
    "    df = df.transpose()   \n",
    "    if len(data_result['company_info']) == 0:\n",
    "        data_result = None\n",
    "    with open('company_reviews.json', 'w', encoding='utf-8') as f:\n",
    "        json.dump(data_result, f, ensure_ascii=False, indent=4)\n",
    "    print(i,' ',time_object,' ', name, ' ID:',yandex_id,' ',url,' - Success')\n",
    "    df['key'] = 1\n",
    "    df['url'] = url\n",
    "    df = ya.merge(df, on = 'key', indicator=True)\n",
    "    estimates_all = pd.concat([estimates_all,df])\n",
    "    time.sleep(7+i)"
   ]
  },
  {
   "cell_type": "code",
   "execution_count": 15,
   "id": "65b8db48",
   "metadata": {
    "scrolled": true
   },
   "outputs": [
    {
     "data": {
      "text/plain": [
       "{'company_info': {'company_rating': 'Рейтинг\\xa04,5',\n",
       "  'company_count_reviews': '29 оценок',\n",
       "  'company_count_stars': 4.5,\n",
       "  'company_address': 'Республика Татарстан, Кайбицкий район, село Большие Кайбицы, Солнечный бульвар, 11',\n",
       "  'company_name': 'Летай',\n",
       "  'site': 'letai.ru',\n",
       "  'Reviews': 'Отзывы11'}}"
      ]
     },
     "execution_count": 15,
     "metadata": {},
     "output_type": "execute_result"
    }
   ],
   "source": [
    "data_result"
   ]
  },
  {
   "cell_type": "code",
   "execution_count": 16,
   "id": "7c01d719",
   "metadata": {
    "scrolled": true
   },
   "outputs": [
    {
     "data": {
      "text/html": [
       "<div>\n",
       "<style scoped>\n",
       "    .dataframe tbody tr th:only-of-type {\n",
       "        vertical-align: middle;\n",
       "    }\n",
       "\n",
       "    .dataframe tbody tr th {\n",
       "        vertical-align: top;\n",
       "    }\n",
       "\n",
       "    .dataframe thead th {\n",
       "        text-align: right;\n",
       "    }\n",
       "</style>\n",
       "<table border=\"1\" class=\"dataframe\">\n",
       "  <thead>\n",
       "    <tr style=\"text-align: right;\">\n",
       "      <th></th>\n",
       "      <th>date</th>\n",
       "      <th>time</th>\n",
       "      <th>id</th>\n",
       "      <th>key</th>\n",
       "      <th>Reviews</th>\n",
       "      <th>company_address</th>\n",
       "      <th>company_count_reviews</th>\n",
       "      <th>company_count_stars</th>\n",
       "      <th>company_name</th>\n",
       "      <th>company_rating</th>\n",
       "      <th>site</th>\n",
       "      <th>url</th>\n",
       "      <th>_merge</th>\n",
       "    </tr>\n",
       "  </thead>\n",
       "  <tbody>\n",
       "    <tr>\n",
       "      <th>0</th>\n",
       "      <td>12.02.2024</td>\n",
       "      <td>09:02:10</td>\n",
       "      <td>1218514905</td>\n",
       "      <td>1</td>\n",
       "      <td>Отзывы11</td>\n",
       "      <td>Республика Татарстан, Кайбицкий район, село Бо...</td>\n",
       "      <td>29 оценок</td>\n",
       "      <td>4.5</td>\n",
       "      <td>Летай</td>\n",
       "      <td>Рейтинг 4,5</td>\n",
       "      <td>letai.ru</td>\n",
       "      <td>https://yandex.ru/maps/org/letay/1218514905</td>\n",
       "      <td>both</td>\n",
       "    </tr>\n",
       "  </tbody>\n",
       "</table>\n",
       "</div>"
      ],
      "text/plain": [
       "         date      time          id  key   Reviews  \\\n",
       "0  12.02.2024  09:02:10  1218514905    1  Отзывы11   \n",
       "\n",
       "                                     company_address company_count_reviews  \\\n",
       "0  Республика Татарстан, Кайбицкий район, село Бо...             29 оценок   \n",
       "\n",
       "  company_count_stars company_name company_rating      site  \\\n",
       "0                 4.5        Летай    Рейтинг 4,5  letai.ru   \n",
       "\n",
       "                                           url _merge  \n",
       "0  https://yandex.ru/maps/org/letay/1218514905   both  "
      ]
     },
     "execution_count": 16,
     "metadata": {},
     "output_type": "execute_result"
    }
   ],
   "source": [
    "estimates_all"
   ]
  },
  {
   "cell_type": "code",
   "execution_count": 17,
   "id": "ebb47fc5",
   "metadata": {
    "scrolled": true
   },
   "outputs": [
    {
     "data": {
      "text/plain": [
       "{'company_info': {'company_rating': 'Рейтинг\\xa04,5',\n",
       "  'company_count_reviews': '29 оценок',\n",
       "  'company_count_stars': 4.5,\n",
       "  'company_address': 'Республика Татарстан, Кайбицкий район, село Большие Кайбицы, Солнечный бульвар, 11',\n",
       "  'company_name': 'Летай',\n",
       "  'site': 'letai.ru',\n",
       "  'Reviews': 'Отзывы11'}}"
      ]
     },
     "execution_count": 17,
     "metadata": {},
     "output_type": "execute_result"
    }
   ],
   "source": [
    "data_result"
   ]
  },
  {
   "cell_type": "code",
   "execution_count": 15,
   "id": "d280dc9d",
   "metadata": {},
   "outputs": [],
   "source": [
    "day = time.strftime(\"%d%m%Y_%H%M\")"
   ]
  },
  {
   "cell_type": "code",
   "execution_count": 16,
   "id": "dfb2f7ae",
   "metadata": {},
   "outputs": [],
   "source": [
    "#estimates_all.to_excel('D:\\\\estimates\\estimates_all_'+day+'.xlsx',index = False)"
   ]
  },
  {
   "cell_type": "code",
   "execution_count": 17,
   "id": "1c03c3b4",
   "metadata": {},
   "outputs": [],
   "source": [
    "#estimates_all.to_csv('D:\\\\estimates\\estimates_all_'+day+'.csv',sep=';', encoding='cp1251')"
   ]
  },
  {
   "cell_type": "code",
   "execution_count": 18,
   "id": "4fcd058a",
   "metadata": {},
   "outputs": [],
   "source": [
    "#df.to_csv(file_name, sep='\\t', encoding='utf-8')"
   ]
  }
 ],
 "metadata": {
  "kernelspec": {
   "display_name": "Python 3 (ipykernel)",
   "language": "python",
   "name": "python3"
  },
  "language_info": {
   "codemirror_mode": {
    "name": "ipython",
    "version": 3
   },
   "file_extension": ".py",
   "mimetype": "text/x-python",
   "name": "python",
   "nbconvert_exporter": "python",
   "pygments_lexer": "ipython3",
   "version": "3.10.8"
  }
 },
 "nbformat": 4,
 "nbformat_minor": 5
}
