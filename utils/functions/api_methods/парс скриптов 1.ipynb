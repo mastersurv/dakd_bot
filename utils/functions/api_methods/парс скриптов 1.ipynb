{
 "cells": [
  {
   "cell_type": "code",
   "execution_count": null,
   "id": "c7fc7c9e-2124-4f4c-a1c2-db6dbb0be39d",
   "metadata": {},
   "outputs": [],
   "source": [
    "import requests\n",
    "from requests.packages.urllib3.exceptions import InsecureRequestWarning\n",
    "import OpenSSL.crypto\n",
    "import base64\n",
    "import json"
   ]
  },
  {
   "cell_type": "code",
   "execution_count": 93,
   "id": "9e51f60d-8be4-4215-8df3-5d9882e518fb",
   "metadata": {},
   "outputs": [],
   "source": [
    "config = {\n",
    "    'host': 'qlik.tattelecom.ru',\n",
    "    'prefix': '/',\n",
    "    'port': 443,\n",
    "    'isSecure': False\n",
    "}"
   ]
  },
  {
   "cell_type": "code",
   "execution_count": 94,
   "id": "e8fd880b-7dd0-4c28-b456-73a054ff903b",
   "metadata": {},
   "outputs": [],
   "source": [
    "app_id = \"0417f8ed-6869-42ac-a6ee-540cceb19b40\""
   ]
  },
  {
   "cell_type": "code",
   "execution_count": 95,
   "id": "e9a4b4ec-778a-4225-be33-104f80db89b4",
   "metadata": {},
   "outputs": [],
   "source": [
    "xrf_key = str(uuid.uuid4())"
   ]
  },
  {
   "cell_type": "code",
   "execution_count": 101,
   "id": "391c0771-295e-4389-a44a-4c83cceb690b",
   "metadata": {},
   "outputs": [
    {
     "name": "stdout",
     "output_type": "stream",
     "text": [
      "https://qlik.tattelecom.ru/dev/qrs/app/0417f8ed-6869-42ac-a6ee-540cceb19b40/script\n",
      "<bound method Response.json of <Response [200]>>\n"
     ]
    }
   ],
   "source": [
    "app_url = f\"https://{config['host']}:{config['port']}/api/v1/apps/{app_id}\"\n",
    "response = requests.get(app_url, headers={'x-qlik-xrfkey': xrf_key}, verify=False)\n",
    "print(url)\n",
    "\n",
    "# Вывод текста ответа от сервера для анализа\n",
    "print(response.json)"
   ]
  },
  {
   "cell_type": "code",
   "execution_count": 91,
   "id": "76d67469-c52d-4225-9590-1635245b9ed8",
   "metadata": {},
   "outputs": [
    {
     "name": "stdout",
     "output_type": "stream",
     "text": [
      "Error decoding JSON response: Expecting value: line 1 column 1 (char 0)\n"
     ]
    }
   ],
   "source": []
  },
  {
   "cell_type": "code",
   "execution_count": null,
   "id": "be05219f-17a3-4136-b55f-8530446bd959",
   "metadata": {},
   "outputs": [],
   "source": []
  }
 ],
 "metadata": {
  "kernelspec": {
   "display_name": "Python 3 (ipykernel)",
   "language": "python",
   "name": "python3"
  },
  "language_info": {
   "codemirror_mode": {
    "name": "ipython",
    "version": 3
   },
   "file_extension": ".py",
   "mimetype": "text/x-python",
   "name": "python",
   "nbconvert_exporter": "python",
   "pygments_lexer": "ipython3",
   "version": "3.12.0"
  }
 },
 "nbformat": 4,
 "nbformat_minor": 5
}
